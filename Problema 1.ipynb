{
 "cells": [
  {
   "cell_type": "markdown",
   "id": "39b47b6f",
   "metadata": {},
   "source": [
    "# Proyecto intermedio\n",
    "\n",
    "## Yalia Irais López García"
   ]
  },
  {
   "cell_type": "markdown",
   "id": "c6aec5de",
   "metadata": {},
   "source": [
    "### Problema 1"
   ]
  },
  {
   "cell_type": "code",
   "execution_count": 5,
   "id": "aca2080d",
   "metadata": {},
   "outputs": [
    {
     "name": "stderr",
     "output_type": "stream",
     "text": [
      "\u001b[32m\u001b[1m    Updating\u001b[22m\u001b[39m registry at `C:\\Users\\yalia\\.julia\\registries\\General.toml`\n",
      "\u001b[32m\u001b[1m   Resolving\u001b[22m\u001b[39m package versions...\n",
      "\u001b[32m\u001b[1m  No Changes\u001b[22m\u001b[39m to `C:\\Users\\yalia\\.julia\\environments\\v1.7\\Project.toml`\n",
      "\u001b[32m\u001b[1m  No Changes\u001b[22m\u001b[39m to `C:\\Users\\yalia\\.julia\\environments\\v1.7\\Manifest.toml`\n"
     ]
    }
   ],
   "source": [
    "import Pkg; Pkg.add(\"Luxor\")  #importamos la paqueteria que usaremos"
   ]
  },
  {
   "cell_type": "code",
   "execution_count": 6,
   "id": "972704e0",
   "metadata": {},
   "outputs": [],
   "source": [
    "using Luxor"
   ]
  },
  {
   "cell_type": "code",
   "execution_count": 17,
   "id": "bab847ff",
   "metadata": {},
   "outputs": [
    {
     "data": {
      "text/plain": [
       "TriangulodeSierpinsky (generic function with 1 method)"
      ]
     },
     "execution_count": 17,
     "metadata": {},
     "output_type": "execute_result"
    }
   ],
   "source": [
    "function TriangulodeSierpinsky() #establecemos la función y nuestros parametros\n",
    "    width  = 200\n",
    "    height = 200\n",
    "    Drawing(width, height, \"./TriangulodeSierpinsky.png\") # Usamos Drawing para guardar nuestro dibujo\n",
    "    t = Turtle(0, 0, true, 0, (0., 0., 0.))\n",
    "    x = rand(1:width) # Asignamos un número aleatorio de 1 a 200 para X y Y\n",
    "    y = rand(1:height)\n",
    " \n",
    "    for l in 2:30000 #Damos 30000 iteraciones para mejor definicion\n",
    "        v = rand(1:3) #para los vertices asignamos un numero aleatorio de 1 a 3\n",
    "        if v == 1\n",
    "            x /= 2 # /= dividimos nuestro valor izquierdo con el derecho y se lo asignamos a la izquierda\n",
    "            y /= 2\n",
    "        elseif v == 2\n",
    "           x = width/2 + (width/2 - x)/2 #la mitad de la distancia (x, y) y el vértice\n",
    "            y = height - (height - y)/2 \n",
    "        else\n",
    "           x = width - (width - x)/2\n",
    "            y = y / 2 \n",
    "        end\n",
    "        Reposition(t, x, height-y) \n",
    "        Circle(t, 3)\n",
    "    end\n",
    "end"
   ]
  },
  {
   "cell_type": "code",
   "execution_count": 20,
   "id": "466500f4",
   "metadata": {
    "scrolled": true
   },
   "outputs": [
    {
     "data": {
      "image/png": "[encoded data removed]"
     },
     "metadata": {},
     "output_type": "display_data"
    }
   ],
   "source": [
    "TriangulodeSierpinsky()\n",
    "finish()\n",
    "preview() # Abrimos el archivo que guardamos como TrianguloSierpinsky.png"
   ]
  }
 ],
 "metadata": {
  "kernelspec": {
   "display_name": "Julia 1.7.2",
   "language": "julia",
   "name": "julia-1.7"
  },
  "language_info": {
   "file_extension": ".jl",
   "mimetype": "application/julia",
   "name": "julia",
   "version": "1.7.2"
  }
 },
 "nbformat": 4,
 "nbformat_minor": 5
}
